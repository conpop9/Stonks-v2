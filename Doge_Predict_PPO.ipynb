{
  "nbformat": 4,
  "nbformat_minor": 0,
  "metadata": {
    "kernelspec": {
      "display_name": "Python 3",
      "language": "python",
      "name": "python3"
    },
    "language_info": {
      "codemirror_mode": {
        "name": "ipython",
        "version": 3
      },
      "file_extension": ".py",
      "mimetype": "text/x-python",
      "name": "python",
      "nbconvert_exporter": "python",
      "pygments_lexer": "ipython3",
      "version": "3.7.3"
    },
    "colab": {
      "name": "Doge_Predict_PPO.ipynb",
      "provenance": [],
      "toc_visible": true,
      "include_colab_link": true
    }
  },
  "cells": [
    {
      "cell_type": "markdown",
      "metadata": {
        "id": "view-in-github",
        "colab_type": "text"
      },
      "source": [
        "<a href=\"https://colab.research.google.com/github/conpop9/Stonks-v2/blob/main/Doge_Predict_PPO.ipynb\" target=\"_parent\"><img src=\"https://colab.research.google.com/assets/colab-badge.svg\" alt=\"Open In Colab\"/></a>"
      ]
    },
    {
      "cell_type": "markdown",
      "metadata": {
        "id": "zzTkh3jgWxpR"
      },
      "source": [
        "#Dependencies"
      ]
    },
    {
      "cell_type": "code",
      "metadata": {
        "id": "eN5cgmj9WxpS"
      },
      "source": [
        "!pip install tensorflow-gpu==1.15.0 tensorflow==1.15.0 stable-baselines gym-anytrading gym"
      ],
      "execution_count": null,
      "outputs": []
    },
    {
      "cell_type": "code",
      "metadata": {
        "id": "DqFxJ9fZWxpS"
      },
      "source": [
        "\n",
        "import gym\n",
        "import gym_anytrading\n",
        "\n",
        "from stable_baselines.common.vec_env import DummyVecEnv\n",
        "\n",
        "\n",
        "from stable_baselines.common.policies import MlpPolicy\n",
        "from stable_baselines.common import make_vec_env\n",
        "from stable_baselines import PPO2\n",
        "import numpy as np\n",
        "import pandas as pd\n",
        "from matplotlib import pyplot as plt"
      ],
      "execution_count": null,
      "outputs": []
    },
    {
      "cell_type": "markdown",
      "metadata": {
        "id": "hapFmFgmWxpT"
      },
      "source": [
        "Importing Doge Coin Data"
      ]
    },
    {
      "cell_type": "code",
      "metadata": {
        "id": "HdHM2MoHWxpT"
      },
      "source": [
        "df = pd.read_csv('doge.csv')"
      ],
      "execution_count": null,
      "outputs": []
    },
    {
      "cell_type": "code",
      "metadata": {
        "colab": {
          "base_uri": "https://localhost:8080/",
          "height": 204
        },
        "id": "7lsBSDjrWxpT",
        "outputId": "3bdd12c7-fc43-4279-9df9-810bb3f63c21"
      },
      "source": [
        "df.head()"
      ],
      "execution_count": null,
      "outputs": [
        {
          "output_type": "execute_result",
          "data": {
            "text/html": [
              "<div>\n",
              "<style scoped>\n",
              "    .dataframe tbody tr th:only-of-type {\n",
              "        vertical-align: middle;\n",
              "    }\n",
              "\n",
              "    .dataframe tbody tr th {\n",
              "        vertical-align: top;\n",
              "    }\n",
              "\n",
              "    .dataframe thead th {\n",
              "        text-align: right;\n",
              "    }\n",
              "</style>\n",
              "<table border=\"1\" class=\"dataframe\">\n",
              "  <thead>\n",
              "    <tr style=\"text-align: right;\">\n",
              "      <th></th>\n",
              "      <th>Date</th>\n",
              "      <th>Open</th>\n",
              "      <th>High</th>\n",
              "      <th>Low</th>\n",
              "      <th>Close</th>\n",
              "      <th>Volume</th>\n",
              "    </tr>\n",
              "  </thead>\n",
              "  <tbody>\n",
              "    <tr>\n",
              "      <th>0</th>\n",
              "      <td>03/12/21</td>\n",
              "      <td>0.330407</td>\n",
              "      <td>0.432618</td>\n",
              "      <td>0.297074</td>\n",
              "      <td>0.397741</td>\n",
              "      <td>13850000000</td>\n",
              "    </tr>\n",
              "    <tr>\n",
              "      <th>1</th>\n",
              "      <td>03/11/21</td>\n",
              "      <td>0.474719</td>\n",
              "      <td>0.477866</td>\n",
              "      <td>0.217528</td>\n",
              "      <td>0.330353</td>\n",
              "      <td>19280000000</td>\n",
              "    </tr>\n",
              "    <tr>\n",
              "      <th>2</th>\n",
              "      <td>03/10/21</td>\n",
              "      <td>0.486444</td>\n",
              "      <td>0.512529</td>\n",
              "      <td>0.468941</td>\n",
              "      <td>0.474714</td>\n",
              "      <td>4750000000</td>\n",
              "    </tr>\n",
              "    <tr>\n",
              "      <th>3</th>\n",
              "      <td>03/09/21</td>\n",
              "      <td>0.513062</td>\n",
              "      <td>0.514821</td>\n",
              "      <td>0.457331</td>\n",
              "      <td>0.486366</td>\n",
              "      <td>6840000000</td>\n",
              "    </tr>\n",
              "    <tr>\n",
              "      <th>4</th>\n",
              "      <td>03/08/21</td>\n",
              "      <td>0.507796</td>\n",
              "      <td>0.547205</td>\n",
              "      <td>0.449635</td>\n",
              "      <td>0.513023</td>\n",
              "      <td>8260000000</td>\n",
              "    </tr>\n",
              "  </tbody>\n",
              "</table>\n",
              "</div>"
            ],
            "text/plain": [
              "       Date      Open      High       Low     Close       Volume\n",
              "0  03/12/21  0.330407  0.432618  0.297074  0.397741  13850000000\n",
              "1  03/11/21  0.474719  0.477866  0.217528  0.330353  19280000000\n",
              "2  03/10/21  0.486444  0.512529  0.468941  0.474714   4750000000\n",
              "3  03/09/21  0.513062  0.514821  0.457331  0.486366   6840000000\n",
              "4  03/08/21  0.507796  0.547205  0.449635  0.513023   8260000000"
            ]
          },
          "metadata": {
            "tags": []
          },
          "execution_count": 29
        }
      ]
    },
    {
      "cell_type": "code",
      "metadata": {
        "colab": {
          "base_uri": "https://localhost:8080/"
        },
        "id": "Z9ja8smXWxpT",
        "outputId": "61f59b88-ab49-4406-9e2c-586a86f89fb4"
      },
      "source": [
        "df['Date'] = pd.to_datetime(df['Date'])\n",
        "df.dtypes"
      ],
      "execution_count": null,
      "outputs": [
        {
          "output_type": "execute_result",
          "data": {
            "text/plain": [
              "Date      datetime64[ns]\n",
              "Open             float64\n",
              "High             float64\n",
              "Low              float64\n",
              "Close            float64\n",
              "Volume             int64\n",
              "dtype: object"
            ]
          },
          "metadata": {
            "tags": []
          },
          "execution_count": 30
        }
      ]
    },
    {
      "cell_type": "code",
      "metadata": {
        "colab": {
          "base_uri": "https://localhost:8080/",
          "height": 235
        },
        "id": "dmzrb9fGWxpU",
        "outputId": "4944fafe-52ce-41ca-e293-5e7e04e0e1b0"
      },
      "source": [
        "df.set_index('Date', inplace=True)\n",
        "df.head()"
      ],
      "execution_count": null,
      "outputs": [
        {
          "output_type": "execute_result",
          "data": {
            "text/html": [
              "<div>\n",
              "<style scoped>\n",
              "    .dataframe tbody tr th:only-of-type {\n",
              "        vertical-align: middle;\n",
              "    }\n",
              "\n",
              "    .dataframe tbody tr th {\n",
              "        vertical-align: top;\n",
              "    }\n",
              "\n",
              "    .dataframe thead th {\n",
              "        text-align: right;\n",
              "    }\n",
              "</style>\n",
              "<table border=\"1\" class=\"dataframe\">\n",
              "  <thead>\n",
              "    <tr style=\"text-align: right;\">\n",
              "      <th></th>\n",
              "      <th>Open</th>\n",
              "      <th>High</th>\n",
              "      <th>Low</th>\n",
              "      <th>Close</th>\n",
              "      <th>Volume</th>\n",
              "    </tr>\n",
              "    <tr>\n",
              "      <th>Date</th>\n",
              "      <th></th>\n",
              "      <th></th>\n",
              "      <th></th>\n",
              "      <th></th>\n",
              "      <th></th>\n",
              "    </tr>\n",
              "  </thead>\n",
              "  <tbody>\n",
              "    <tr>\n",
              "      <th>2021-03-12</th>\n",
              "      <td>0.330407</td>\n",
              "      <td>0.432618</td>\n",
              "      <td>0.297074</td>\n",
              "      <td>0.397741</td>\n",
              "      <td>13850000000</td>\n",
              "    </tr>\n",
              "    <tr>\n",
              "      <th>2021-03-11</th>\n",
              "      <td>0.474719</td>\n",
              "      <td>0.477866</td>\n",
              "      <td>0.217528</td>\n",
              "      <td>0.330353</td>\n",
              "      <td>19280000000</td>\n",
              "    </tr>\n",
              "    <tr>\n",
              "      <th>2021-03-10</th>\n",
              "      <td>0.486444</td>\n",
              "      <td>0.512529</td>\n",
              "      <td>0.468941</td>\n",
              "      <td>0.474714</td>\n",
              "      <td>4750000000</td>\n",
              "    </tr>\n",
              "    <tr>\n",
              "      <th>2021-03-09</th>\n",
              "      <td>0.513062</td>\n",
              "      <td>0.514821</td>\n",
              "      <td>0.457331</td>\n",
              "      <td>0.486366</td>\n",
              "      <td>6840000000</td>\n",
              "    </tr>\n",
              "    <tr>\n",
              "      <th>2021-03-08</th>\n",
              "      <td>0.507796</td>\n",
              "      <td>0.547205</td>\n",
              "      <td>0.449635</td>\n",
              "      <td>0.513023</td>\n",
              "      <td>8260000000</td>\n",
              "    </tr>\n",
              "  </tbody>\n",
              "</table>\n",
              "</div>"
            ],
            "text/plain": [
              "                Open      High       Low     Close       Volume\n",
              "Date                                                           \n",
              "2021-03-12  0.330407  0.432618  0.297074  0.397741  13850000000\n",
              "2021-03-11  0.474719  0.477866  0.217528  0.330353  19280000000\n",
              "2021-03-10  0.486444  0.512529  0.468941  0.474714   4750000000\n",
              "2021-03-09  0.513062  0.514821  0.457331  0.486366   6840000000\n",
              "2021-03-08  0.507796  0.547205  0.449635  0.513023   8260000000"
            ]
          },
          "metadata": {
            "tags": []
          },
          "execution_count": 31
        }
      ]
    },
    {
      "cell_type": "code",
      "metadata": {
        "id": "Aod5onV-WxpU"
      },
      "source": [
        "env = gym.make('stocks-v0', df=df, frame_bound=(5,200), window_size=5)"
      ],
      "execution_count": null,
      "outputs": []
    },
    {
      "cell_type": "code",
      "metadata": {
        "scrolled": true,
        "id": "MD20PsIxWxpU",
        "colab": {
          "base_uri": "https://localhost:8080/"
        },
        "outputId": "2da7dfc7-8ed9-4ea2-af36-f8ce5bf7c19e"
      },
      "source": [
        "env.signal_features"
      ],
      "execution_count": null,
      "outputs": [
        {
          "output_type": "execute_result",
          "data": {
            "text/plain": [
              "array([[ 3.97741e-01,  0.00000e+00],\n",
              "       [ 3.30353e-01, -6.73880e-02],\n",
              "       [ 4.74714e-01,  1.44361e-01],\n",
              "       [ 4.86366e-01,  1.16520e-02],\n",
              "       [ 5.13023e-01,  2.66570e-02],\n",
              "       [ 5.07448e-01, -5.57500e-03],\n",
              "       [ 5.59581e-01,  5.21330e-02],\n",
              "       [ 4.86910e-01, -7.26710e-02],\n",
              "       [ 3.89159e-01, -9.77510e-02],\n",
              "       [ 4.93231e-01,  1.04072e-01],\n",
              "       [ 4.49977e-01, -4.32540e-02],\n",
              "       [ 5.68682e-01,  1.18705e-01],\n",
              "       [ 6.34394e-01,  6.57120e-02],\n",
              "       [ 6.86880e-01,  5.24860e-02],\n",
              "       [ 5.79839e-01, -1.07041e-01],\n",
              "       [ 6.55355e-01,  7.55160e-02],\n",
              "       [ 5.59005e-01, -9.63500e-02],\n",
              "       [ 4.38244e-01, -1.20761e-01],\n",
              "       [ 3.72404e-01, -6.58400e-02],\n",
              "       [ 3.90642e-01,  1.82380e-02],\n",
              "       [ 3.36635e-01, -5.40070e-02],\n",
              "       [ 3.03240e-01, -3.33950e-02],\n",
              "       [ 3.23582e-01,  2.03420e-02],\n",
              "       [ 2.70668e-01, -5.29140e-02],\n",
              "       [ 2.69805e-01, -8.63000e-04],\n",
              "       [ 2.51103e-01, -1.87020e-02],\n",
              "       [ 2.70017e-01,  1.89140e-02],\n",
              "       [ 2.48731e-01, -2.12860e-02],\n",
              "       [ 2.60810e-01,  1.20790e-02],\n",
              "       [ 3.05633e-01,  4.48230e-02],\n",
              "       [ 3.17696e-01,  1.20630e-02],\n",
              "       [ 4.07335e-01,  8.96390e-02],\n",
              "       [ 3.22037e-01, -8.52980e-02],\n",
              "       [ 2.81909e-01, -4.01280e-02],\n",
              "       [ 3.65551e-01,  8.36420e-02],\n",
              "       [ 1.82784e-01, -1.82767e-01],\n",
              "       [ 1.21349e-01, -6.14350e-02],\n",
              "       [ 9.37630e-02, -2.75860e-02],\n",
              "       [ 7.07190e-02, -2.30440e-02],\n",
              "       [ 7.41500e-02,  3.43100e-03],\n",
              "       [ 6.36880e-02, -1.04620e-02],\n",
              "       [ 6.15820e-02, -2.10600e-03],\n",
              "       [ 6.17570e-02,  1.75000e-04],\n",
              "       [ 5.87280e-02, -3.02900e-03],\n",
              "       [ 6.42830e-02,  5.55500e-03],\n",
              "       [ 5.99480e-02, -4.33500e-03],\n",
              "       [ 5.74010e-02, -2.54700e-03],\n",
              "       [ 5.55540e-02, -1.84700e-03],\n",
              "       [ 5.75700e-02,  2.01600e-03],\n",
              "       [ 6.21130e-02,  4.54300e-03],\n",
              "       [ 5.37440e-02, -8.36900e-03],\n",
              "       [ 5.40270e-02,  2.83000e-04],\n",
              "       [ 5.41020e-02,  7.50000e-05],\n",
              "       [ 5.36370e-02, -4.65000e-04],\n",
              "       [ 5.44260e-02,  7.89000e-04],\n",
              "       [ 5.39730e-02, -4.53000e-04],\n",
              "       [ 5.12630e-02, -2.71000e-03],\n",
              "       [ 5.15100e-02,  2.47000e-04],\n",
              "       [ 5.34370e-02,  1.92700e-03],\n",
              "       [ 5.49290e-02,  1.49200e-03],\n",
              "       [ 5.74710e-02,  2.54200e-03],\n",
              "       [ 5.88270e-02,  1.35600e-03],\n",
              "       [ 5.82700e-02, -5.57000e-04],\n",
              "       [ 5.72940e-02, -9.76000e-04],\n",
              "       [ 5.78800e-02,  5.86000e-04],\n",
              "       [ 5.86110e-02,  7.31000e-04],\n",
              "       [ 5.69650e-02, -1.64600e-03],\n",
              "       [ 5.84310e-02,  1.46600e-03],\n",
              "       [ 6.26940e-02,  4.26300e-03],\n",
              "       [ 5.52610e-02, -7.43300e-03],\n",
              "       [ 5.58930e-02,  6.32000e-04],\n",
              "       [ 5.59000e-02,  7.00000e-06],\n",
              "       [ 5.79780e-02,  2.07800e-03],\n",
              "       [ 6.28480e-02,  4.87000e-03],\n",
              "       [ 5.18810e-02, -1.09670e-02],\n",
              "       [ 5.09350e-02, -9.46000e-04],\n",
              "       [ 4.95840e-02, -1.35100e-03],\n",
              "       [ 4.99270e-02,  3.43000e-04],\n",
              "       [ 5.04740e-02,  5.47000e-04],\n",
              "       [ 5.02790e-02, -1.95000e-04],\n",
              "       [ 5.05760e-02,  2.97000e-04],\n",
              "       [ 4.81290e-02, -2.44700e-03],\n",
              "       [ 5.00760e-02,  1.94700e-03],\n",
              "       [ 5.04630e-02,  3.87000e-04],\n",
              "       [ 5.00450e-02, -4.18000e-04],\n",
              "       [ 5.66530e-02,  6.60800e-03],\n",
              "       [ 4.76730e-02, -8.98000e-03],\n",
              "       [ 5.35300e-02,  5.85700e-03],\n",
              "       [ 5.58810e-02,  2.35100e-03],\n",
              "       [ 5.41350e-02, -1.74600e-03],\n",
              "       [ 5.50360e-02,  9.01000e-04],\n",
              "       [ 5.91340e-02,  4.09800e-03],\n",
              "       [ 4.94670e-02, -9.66700e-03],\n",
              "       [ 5.35130e-02,  4.04600e-03],\n",
              "       [ 5.64420e-02,  2.92900e-03],\n",
              "       [ 6.26390e-02,  6.19700e-03],\n",
              "       [ 6.62490e-02,  3.61000e-03],\n",
              "       [ 6.97910e-02,  3.54200e-03],\n",
              "       [ 6.96110e-02, -1.80000e-04],\n",
              "       [ 7.25840e-02,  2.97300e-03],\n",
              "       [ 7.00120e-02, -2.57200e-03],\n",
              "       [ 7.87930e-02,  8.78100e-03],\n",
              "       [ 7.85080e-02, -2.85000e-04],\n",
              "       [ 5.74650e-02, -2.10430e-02],\n",
              "       [ 4.67830e-02, -1.06820e-02],\n",
              "       [ 5.29440e-02,  6.16100e-03],\n",
              "       [ 3.73450e-02, -1.55990e-02],\n",
              "       [ 3.12960e-02, -6.04900e-03],\n",
              "       [ 3.47050e-02,  3.40900e-03],\n",
              "       [ 3.68410e-02,  2.13600e-03],\n",
              "       [ 2.81970e-02, -8.64400e-03],\n",
              "       [ 4.65970e-02,  1.84000e-02],\n",
              "       [ 3.62650e-02, -1.03320e-02],\n",
              "       [ 7.44100e-03, -2.88240e-02],\n",
              "       [ 8.24000e-03,  7.99000e-04],\n",
              "       [ 8.35300e-03,  1.13000e-04],\n",
              "       [ 8.71400e-03,  3.61000e-04],\n",
              "       [ 8.57100e-03, -1.43000e-04],\n",
              "       [ 8.51600e-03, -5.50000e-05],\n",
              "       [ 8.17200e-03, -3.44000e-04],\n",
              "       [ 9.05500e-03,  8.83000e-04],\n",
              "       [ 9.05300e-03, -2.00000e-06],\n",
              "       [ 9.17200e-03,  1.19000e-04],\n",
              "       [ 9.09400e-03, -7.80000e-05],\n",
              "       [ 9.23500e-03,  1.41000e-04],\n",
              "       [ 9.37300e-03,  1.38000e-04],\n",
              "       [ 9.40000e-03,  2.70000e-05],\n",
              "       [ 8.66900e-03, -7.31000e-04],\n",
              "       [ 8.06600e-03, -6.03000e-04],\n",
              "       [ 8.82800e-03,  7.62000e-04],\n",
              "       [ 9.83100e-03,  1.00300e-03],\n",
              "       [ 1.01580e-02,  3.27000e-04],\n",
              "       [ 9.75300e-03, -4.05000e-04],\n",
              "       [ 9.72400e-03, -2.90000e-05],\n",
              "       [ 1.04430e-02,  7.19000e-04],\n",
              "       [ 9.95800e-03, -4.85000e-04],\n",
              "       [ 9.78000e-03, -1.78000e-04],\n",
              "       [ 9.85000e-03,  7.00000e-05],\n",
              "       [ 1.04890e-02,  6.39000e-04],\n",
              "       [ 5.66100e-03, -4.82800e-03],\n",
              "       [ 4.66600e-03, -9.95000e-04],\n",
              "       [ 4.62700e-03, -3.90000e-05],\n",
              "       [ 4.48800e-03, -1.39000e-04],\n",
              "       [ 4.59400e-03,  1.06000e-04],\n",
              "       [ 4.54800e-03, -4.60000e-05],\n",
              "       [ 4.50800e-03, -4.00000e-05],\n",
              "       [ 4.56300e-03,  5.50000e-05],\n",
              "       [ 4.57300e-03,  1.00000e-05],\n",
              "       [ 3.76700e-03, -8.06000e-04],\n",
              "       [ 4.51400e-03,  7.47000e-04],\n",
              "       [ 4.77300e-03,  2.59000e-04],\n",
              "       [ 4.64100e-03, -1.32000e-04],\n",
              "       [ 3.92500e-03, -7.16000e-04],\n",
              "       [ 3.86300e-03, -6.20000e-05],\n",
              "       [ 3.72300e-03, -1.40000e-04],\n",
              "       [ 3.42300e-03, -3.00000e-04],\n",
              "       [ 3.20400e-03, -2.19000e-04],\n",
              "       [ 3.22400e-03,  2.00000e-05],\n",
              "       [ 3.25900e-03,  3.50000e-05],\n",
              "       [ 3.16400e-03, -9.50000e-05],\n",
              "       [ 3.07500e-03, -8.90000e-05],\n",
              "       [ 3.10900e-03,  3.40000e-05],\n",
              "       [ 3.15800e-03,  4.90000e-05],\n",
              "       [ 3.17600e-03,  1.80000e-05],\n",
              "       [ 3.33500e-03,  1.59000e-04],\n",
              "       [ 3.38800e-03,  5.30000e-05],\n",
              "       [ 3.39100e-03,  3.00000e-06],\n",
              "       [ 3.28200e-03, -1.09000e-04],\n",
              "       [ 3.43300e-03,  1.51000e-04],\n",
              "       [ 3.36900e-03, -6.40000e-05],\n",
              "       [ 3.32000e-03, -4.90000e-05],\n",
              "       [ 3.55100e-03,  2.31000e-04],\n",
              "       [ 3.44000e-03, -1.11000e-04],\n",
              "       [ 3.39200e-03, -4.80000e-05],\n",
              "       [ 3.27000e-03, -1.22000e-04],\n",
              "       [ 3.24500e-03, -2.50000e-05],\n",
              "       [ 3.71600e-03,  4.71000e-04],\n",
              "       [ 4.24000e-03,  5.24000e-04],\n",
              "       [ 3.68400e-03, -5.56000e-04],\n",
              "       [ 3.34000e-03, -3.44000e-04],\n",
              "       [ 3.51000e-03,  1.70000e-04],\n",
              "       [ 2.98600e-03, -5.24000e-04],\n",
              "       [ 2.90500e-03, -8.10000e-05],\n",
              "       [ 2.90400e-03, -1.00000e-06],\n",
              "       [ 2.93500e-03,  3.10000e-05],\n",
              "       [ 2.87900e-03, -5.60000e-05],\n",
              "       [ 2.77300e-03, -1.06000e-04],\n",
              "       [ 2.76900e-03, -4.00000e-06],\n",
              "       [ 2.81100e-03,  4.20000e-05],\n",
              "       [ 2.77300e-03, -3.80000e-05],\n",
              "       [ 2.75700e-03, -1.60000e-05],\n",
              "       [ 2.76000e-03,  3.00000e-06],\n",
              "       [ 2.67300e-03, -8.70000e-05],\n",
              "       [ 2.70700e-03,  3.40000e-05],\n",
              "       [ 2.67000e-03, -3.70000e-05],\n",
              "       [ 2.75700e-03,  8.70000e-05],\n",
              "       [ 2.63900e-03, -1.18000e-04],\n",
              "       [ 2.54600e-03, -9.30000e-05],\n",
              "       [ 2.51700e-03, -2.90000e-05],\n",
              "       [ 2.51400e-03, -3.00000e-06]])"
            ]
          },
          "metadata": {
            "tags": []
          },
          "execution_count": 33
        }
      ]
    },
    {
      "cell_type": "markdown",
      "metadata": {
        "id": "kE03oO41WxpU"
      },
      "source": [
        "# Environment"
      ]
    },
    {
      "cell_type": "code",
      "metadata": {
        "colab": {
          "base_uri": "https://localhost:8080/"
        },
        "id": "-_zhaO7fWxpU",
        "outputId": "569a779f-98aa-4b24-d7d6-5f187e8bac1d"
      },
      "source": [
        "env.action_space"
      ],
      "execution_count": null,
      "outputs": [
        {
          "output_type": "execute_result",
          "data": {
            "text/plain": [
              "Discrete(2)"
            ]
          },
          "metadata": {
            "tags": []
          },
          "execution_count": 34
        }
      ]
    },
    {
      "cell_type": "code",
      "metadata": {
        "colab": {
          "base_uri": "https://localhost:8080/",
          "height": 434
        },
        "id": "T7cYA_48WxpV",
        "outputId": "4acffee7-efd7-4cc5-d738-14ce462248c4"
      },
      "source": [
        "state = env.reset()\n",
        "while True: \n",
        "    action = env.action_space.sample()\n",
        "    n_state, reward, done, info = env.step(action)\n",
        "    if done: \n",
        "        print(\"info\", info)\n",
        "        break\n",
        "        \n",
        "plt.figure(figsize=(15,6))\n",
        "plt.cla()\n",
        "env.render_all()\n",
        "plt.show()"
      ],
      "execution_count": null,
      "outputs": [
        {
          "output_type": "stream",
          "text": [
            "info {'total_reward': -0.19076700000000008, 'total_profit': 0.005691643137203902, 'position': 1}\n"
          ],
          "name": "stdout"
        },
        {
          "output_type": "display_data",
          "data": {
            "image/png": "[encoded data removed]",
            "text/plain": [
              "<Figure size 1080x432 with 1 Axes>"
            ]
          },
          "metadata": {
            "tags": [],
            "needs_background": "light"
          }
        }
      ]
    },
    {
      "cell_type": "markdown",
      "metadata": {
        "id": "uNi26GZJWxpV"
      },
      "source": [
        "# Training Model"
      ]
    },
    {
      "cell_type": "code",
      "metadata": {
        "id": "8XajA-G3WxpV"
      },
      "source": [
        "env_maker = lambda: gym.make('stocks-v0', df=df, frame_bound=(5,100), window_size=5)\n",
        "env = DummyVecEnv([env_maker])"
      ],
      "execution_count": null,
      "outputs": []
    },
    {
      "cell_type": "code",
      "metadata": {
        "scrolled": true,
        "id": "XWC1Uq1yWxpV"
      },
      "source": [
        "model = PPO2(MlpPolicy, env, verbose=1)\n",
        "model.learn(total_timesteps=1000000)"
      ],
      "execution_count": null,
      "outputs": []
    },
    {
      "cell_type": "markdown",
      "metadata": {
        "id": "CSOLjO1NWxpV"
      },
      "source": [
        "# Evaluation"
      ]
    },
    {
      "cell_type": "code",
      "metadata": {
        "colab": {
          "base_uri": "https://localhost:8080/"
        },
        "id": "CqjWDgTjWxpV",
        "outputId": "d1e004b7-061b-4c85-9584-640877043199"
      },
      "source": [
        "env = gym.make('stocks-v0', df=df, frame_bound=(200,250), window_size=5)\n",
        "obs = env.reset()\n",
        "while True: \n",
        "    obs = obs[np.newaxis, ...]\n",
        "    action, _states = model.predict(obs)\n",
        "    obs, rewards, done, info = env.step(action)\n",
        "    if done:\n",
        "        print(\"info\", info)\n",
        "        break"
      ],
      "execution_count": null,
      "outputs": [
        {
          "output_type": "stream",
          "text": [
            "info {'total_reward': 0.0, 'total_profit': 1.0675210864485982, 'position': 1}\n"
          ],
          "name": "stdout"
        }
      ]
    },
    {
      "cell_type": "code",
      "metadata": {
        "colab": {
          "base_uri": "https://localhost:8080/",
          "height": 417
        },
        "id": "pve3NZyfWxpW",
        "outputId": "7da13888-23ff-460e-ff88-5466cc62c2bb"
      },
      "source": [
        "plt.figure(figsize=(15,6))\n",
        "plt.cla()\n",
        "env.render_all()\n",
        "plt.show()"
      ],
      "execution_count": null,
      "outputs": [
        {
          "output_type": "display_data",
          "data": {
            "image/png": "[encoded data removed]",
            "text/plain": [
              "<Figure size 1080x432 with 1 Axes>"
            ]
          },
          "metadata": {
            "tags": [],
            "needs_background": "light"
          }
        }
      ]
    },
    {
      "cell_type": "code",
      "metadata": {
        "id": "iCkgUSKdWxpW"
      },
      "source": [
        ""
      ],
      "execution_count": null,
      "outputs": []
    }
  ]
}