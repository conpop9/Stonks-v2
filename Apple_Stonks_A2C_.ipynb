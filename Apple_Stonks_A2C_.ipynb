{
  "nbformat": 4,
  "nbformat_minor": 0,
  "metadata": {
    "kernelspec": {
      "display_name": "Python 3",
      "language": "python",
      "name": "python3"
    },
    "language_info": {
      "codemirror_mode": {
        "name": "ipython",
        "version": 3
      },
      "file_extension": ".py",
      "mimetype": "text/x-python",
      "name": "python",
      "nbconvert_exporter": "python",
      "pygments_lexer": "ipython3",
      "version": "3.7.3"
    },
    "colab": {
      "name": "Apple Stonks A2C .ipynb",
      "provenance": [],
      "collapsed_sections": [],
      "include_colab_link": true
    }
  },
  "cells": [
    {
      "cell_type": "markdown",
      "metadata": {
        "id": "view-in-github",
        "colab_type": "text"
      },
      "source": [
        "<a href=\"https://colab.research.google.com/github/conpop9/Stonks-v2/blob/main/Apple_Stonks_A2C_.ipynb\" target=\"_parent\"><img src=\"https://colab.research.google.com/assets/colab-badge.svg\" alt=\"Open In Colab\"/></a>"
      ]
    },
    {
      "cell_type": "markdown",
      "metadata": {
        "id": "iHtx87S1IoIp"
      },
      "source": [
        "Installing Dependencies"
      ]
    },
    {
      "cell_type": "code",
      "metadata": {
        "collapsed": true,
        "id": "cEMIqiDfIoIq"
      },
      "source": [
        "!pip install tensorflow-gpu==1.15.0 tensorflow==1.15.0 stable-baselines gym-anytrading gym"
      ],
      "execution_count": null,
      "outputs": []
    },
    {
      "cell_type": "code",
      "metadata": {
        "id": "-Msb95l5IoIr"
      },
      "source": [
        "\n",
        "import gym\n",
        "import gym_anytrading\n",
        "\n",
        "\n",
        "from stable_baselines.common.vec_env import DummyVecEnv\n",
        "from stable_baselines import A2C\n",
        "\n",
        "\n",
        "import numpy as np\n",
        "import pandas as pd\n",
        "from matplotlib import pyplot as plt"
      ],
      "execution_count": 14,
      "outputs": []
    },
    {
      "cell_type": "markdown",
      "metadata": {
        "id": "nz6WJkO2IoIs"
      },
      "source": [
        "Importing Data"
      ]
    },
    {
      "cell_type": "code",
      "metadata": {
        "id": "apKdZZjHIoIs"
      },
      "source": [
        "df = pd.read_csv('apple.csv')"
      ],
      "execution_count": 15,
      "outputs": []
    },
    {
      "cell_type": "code",
      "metadata": {
        "colab": {
          "base_uri": "https://localhost:8080/",
          "height": 204
        },
        "id": "XLrDZ20xIoIs",
        "outputId": "d96f7b36-fd4d-4088-9d16-988c4ce1fc48"
      },
      "source": [
        "df.head()"
      ],
      "execution_count": 16,
      "outputs": [
        {
          "output_type": "execute_result",
          "data": {
            "text/html": [
              "<div>\n",
              "<style scoped>\n",
              "    .dataframe tbody tr th:only-of-type {\n",
              "        vertical-align: middle;\n",
              "    }\n",
              "\n",
              "    .dataframe tbody tr th {\n",
              "        vertical-align: top;\n",
              "    }\n",
              "\n",
              "    .dataframe thead th {\n",
              "        text-align: right;\n",
              "    }\n",
              "</style>\n",
              "<table border=\"1\" class=\"dataframe\">\n",
              "  <thead>\n",
              "    <tr style=\"text-align: right;\">\n",
              "      <th></th>\n",
              "      <th>Date</th>\n",
              "      <th>Open</th>\n",
              "      <th>High</th>\n",
              "      <th>Low</th>\n",
              "      <th>Close</th>\n",
              "      <th>Volume</th>\n",
              "    </tr>\n",
              "  </thead>\n",
              "  <tbody>\n",
              "    <tr>\n",
              "      <th>0</th>\n",
              "      <td>03/12/2021</td>\n",
              "      <td>120.40</td>\n",
              "      <td>121.17</td>\n",
              "      <td>119.16</td>\n",
              "      <td>121.03</td>\n",
              "      <td>88,105,047</td>\n",
              "    </tr>\n",
              "    <tr>\n",
              "      <th>1</th>\n",
              "      <td>03/11/2021</td>\n",
              "      <td>122.54</td>\n",
              "      <td>123.21</td>\n",
              "      <td>121.26</td>\n",
              "      <td>121.96</td>\n",
              "      <td>103,026,492</td>\n",
              "    </tr>\n",
              "    <tr>\n",
              "      <th>2</th>\n",
              "      <td>03/10/2021</td>\n",
              "      <td>121.69</td>\n",
              "      <td>122.17</td>\n",
              "      <td>119.45</td>\n",
              "      <td>119.98</td>\n",
              "      <td>111,943,297</td>\n",
              "    </tr>\n",
              "    <tr>\n",
              "      <th>3</th>\n",
              "      <td>03/09/2021</td>\n",
              "      <td>119.03</td>\n",
              "      <td>122.06</td>\n",
              "      <td>118.79</td>\n",
              "      <td>121.09</td>\n",
              "      <td>129,525,797</td>\n",
              "    </tr>\n",
              "    <tr>\n",
              "      <th>4</th>\n",
              "      <td>03/08/2021</td>\n",
              "      <td>120.93</td>\n",
              "      <td>121.00</td>\n",
              "      <td>116.21</td>\n",
              "      <td>116.36</td>\n",
              "      <td>154,376,609</td>\n",
              "    </tr>\n",
              "  </tbody>\n",
              "</table>\n",
              "</div>"
            ],
            "text/plain": [
              "         Date    Open    High     Low   Close       Volume\n",
              "0  03/12/2021  120.40  121.17  119.16  121.03   88,105,047\n",
              "1  03/11/2021  122.54  123.21  121.26  121.96  103,026,492\n",
              "2  03/10/2021  121.69  122.17  119.45  119.98  111,943,297\n",
              "3  03/09/2021  119.03  122.06  118.79  121.09  129,525,797\n",
              "4  03/08/2021  120.93  121.00  116.21  116.36  154,376,609"
            ]
          },
          "metadata": {
            "tags": []
          },
          "execution_count": 16
        }
      ]
    },
    {
      "cell_type": "code",
      "metadata": {
        "colab": {
          "base_uri": "https://localhost:8080/"
        },
        "id": "CXwVb0GlIoIt",
        "outputId": "fad0c459-bbcd-47bf-91b1-5592594d6b26"
      },
      "source": [
        "df['Date'] = pd.to_datetime(df['Date'])\n",
        "df.dtypes"
      ],
      "execution_count": 17,
      "outputs": [
        {
          "output_type": "execute_result",
          "data": {
            "text/plain": [
              "Date      datetime64[ns]\n",
              "Open             float64\n",
              "High             float64\n",
              "Low              float64\n",
              "Close            float64\n",
              "Volume            object\n",
              "dtype: object"
            ]
          },
          "metadata": {
            "tags": []
          },
          "execution_count": 17
        }
      ]
    },
    {
      "cell_type": "code",
      "metadata": {
        "colab": {
          "base_uri": "https://localhost:8080/",
          "height": 235
        },
        "id": "UkvrzgPZIoIt",
        "outputId": "6c016083-fa88-4dae-9613-1a90e61e3b96"
      },
      "source": [
        "df.set_index('Date', inplace=True)\n",
        "df.head()"
      ],
      "execution_count": 18,
      "outputs": [
        {
          "output_type": "execute_result",
          "data": {
            "text/html": [
              "<div>\n",
              "<style scoped>\n",
              "    .dataframe tbody tr th:only-of-type {\n",
              "        vertical-align: middle;\n",
              "    }\n",
              "\n",
              "    .dataframe tbody tr th {\n",
              "        vertical-align: top;\n",
              "    }\n",
              "\n",
              "    .dataframe thead th {\n",
              "        text-align: right;\n",
              "    }\n",
              "</style>\n",
              "<table border=\"1\" class=\"dataframe\">\n",
              "  <thead>\n",
              "    <tr style=\"text-align: right;\">\n",
              "      <th></th>\n",
              "      <th>Open</th>\n",
              "      <th>High</th>\n",
              "      <th>Low</th>\n",
              "      <th>Close</th>\n",
              "      <th>Volume</th>\n",
              "    </tr>\n",
              "    <tr>\n",
              "      <th>Date</th>\n",
              "      <th></th>\n",
              "      <th></th>\n",
              "      <th></th>\n",
              "      <th></th>\n",
              "      <th></th>\n",
              "    </tr>\n",
              "  </thead>\n",
              "  <tbody>\n",
              "    <tr>\n",
              "      <th>2021-03-12</th>\n",
              "      <td>120.40</td>\n",
              "      <td>121.17</td>\n",
              "      <td>119.16</td>\n",
              "      <td>121.03</td>\n",
              "      <td>88,105,047</td>\n",
              "    </tr>\n",
              "    <tr>\n",
              "      <th>2021-03-11</th>\n",
              "      <td>122.54</td>\n",
              "      <td>123.21</td>\n",
              "      <td>121.26</td>\n",
              "      <td>121.96</td>\n",
              "      <td>103,026,492</td>\n",
              "    </tr>\n",
              "    <tr>\n",
              "      <th>2021-03-10</th>\n",
              "      <td>121.69</td>\n",
              "      <td>122.17</td>\n",
              "      <td>119.45</td>\n",
              "      <td>119.98</td>\n",
              "      <td>111,943,297</td>\n",
              "    </tr>\n",
              "    <tr>\n",
              "      <th>2021-03-09</th>\n",
              "      <td>119.03</td>\n",
              "      <td>122.06</td>\n",
              "      <td>118.79</td>\n",
              "      <td>121.09</td>\n",
              "      <td>129,525,797</td>\n",
              "    </tr>\n",
              "    <tr>\n",
              "      <th>2021-03-08</th>\n",
              "      <td>120.93</td>\n",
              "      <td>121.00</td>\n",
              "      <td>116.21</td>\n",
              "      <td>116.36</td>\n",
              "      <td>154,376,609</td>\n",
              "    </tr>\n",
              "  </tbody>\n",
              "</table>\n",
              "</div>"
            ],
            "text/plain": [
              "              Open    High     Low   Close       Volume\n",
              "Date                                                   \n",
              "2021-03-12  120.40  121.17  119.16  121.03   88,105,047\n",
              "2021-03-11  122.54  123.21  121.26  121.96  103,026,492\n",
              "2021-03-10  121.69  122.17  119.45  119.98  111,943,297\n",
              "2021-03-09  119.03  122.06  118.79  121.09  129,525,797\n",
              "2021-03-08  120.93  121.00  116.21  116.36  154,376,609"
            ]
          },
          "metadata": {
            "tags": []
          },
          "execution_count": 18
        }
      ]
    },
    {
      "cell_type": "code",
      "metadata": {
        "id": "ERLxZXL9IoIu"
      },
      "source": [
        "env = gym.make('stocks-v0', df=df, frame_bound=(5,200), window_size=5)"
      ],
      "execution_count": 19,
      "outputs": []
    },
    {
      "cell_type": "code",
      "metadata": {
        "scrolled": true,
        "colab": {
          "base_uri": "https://localhost:8080/"
        },
        "id": "YgYtXvcnIoIu",
        "outputId": "21074ced-14ae-40e9-a50a-4480d0d6853e"
      },
      "source": [
        "env.signal_features"
      ],
      "execution_count": 20,
      "outputs": [
        {
          "output_type": "execute_result",
          "data": {
            "text/plain": [
              "array([[ 1.2103e+02,  0.0000e+00],\n",
              "       [ 1.2196e+02,  9.3000e-01],\n",
              "       [ 1.1998e+02, -1.9800e+00],\n",
              "       [ 1.2109e+02,  1.1100e+00],\n",
              "       [ 1.1636e+02, -4.7300e+00],\n",
              "       [ 1.2142e+02,  5.0600e+00],\n",
              "       [ 1.2013e+02, -1.2900e+00],\n",
              "       [ 1.2206e+02,  1.9300e+00],\n",
              "       [ 1.2512e+02,  3.0600e+00],\n",
              "       [ 1.2779e+02,  2.6700e+00],\n",
              "       [ 1.2126e+02, -6.5300e+00],\n",
              "       [ 1.2099e+02, -2.7000e-01],\n",
              "       [ 1.2535e+02,  4.3600e+00],\n",
              "       [ 1.2586e+02,  5.1000e-01],\n",
              "       [ 1.2600e+02,  1.4000e-01],\n",
              "       [ 1.2987e+02,  3.8700e+00],\n",
              "       [ 1.2971e+02, -1.6000e-01],\n",
              "       [ 1.3084e+02,  1.1300e+00],\n",
              "       [ 1.3319e+02,  2.3500e+00],\n",
              "       [ 1.3537e+02,  2.1800e+00],\n",
              "       [ 1.3513e+02, -2.4000e-01],\n",
              "       [ 1.3539e+02,  2.6000e-01],\n",
              "       [ 1.3601e+02,  6.2000e-01],\n",
              "       [ 1.3691e+02,  9.0000e-01],\n",
              "       [ 1.3676e+02, -1.5000e-01],\n",
              "       [ 1.3739e+02,  6.3000e-01],\n",
              "       [ 1.3394e+02, -3.4500e+00],\n",
              "       [ 1.3499e+02,  1.0500e+00],\n",
              "       [ 1.3414e+02, -8.5000e-01],\n",
              "       [ 1.3196e+02, -2.1800e+00],\n",
              "       [ 1.3709e+02,  5.1300e+00],\n",
              "       [ 1.4206e+02,  4.9700e+00],\n",
              "       [ 1.4316e+02,  1.1000e+00],\n",
              "       [ 1.4292e+02, -2.4000e-01],\n",
              "       [ 1.3907e+02, -3.8500e+00],\n",
              "       [ 1.3687e+02, -2.2000e+00],\n",
              "       [ 1.3203e+02, -4.8400e+00],\n",
              "       [ 1.2783e+02, -4.2000e+00],\n",
              "       [ 1.2714e+02, -6.9000e-01],\n",
              "       [ 1.2891e+02,  1.7700e+00],\n",
              "       [ 1.3089e+02,  1.9800e+00],\n",
              "       [ 1.2880e+02, -2.0900e+00],\n",
              "       [ 1.2898e+02,  1.8000e-01],\n",
              "       [ 1.3205e+02,  3.0700e+00],\n",
              "       [ 1.3092e+02, -1.1300e+00],\n",
              "       [ 1.2660e+02, -4.3200e+00],\n",
              "       [ 1.3101e+02,  4.4100e+00],\n",
              "       [ 1.2941e+02, -1.6000e+00],\n",
              "       [ 1.3269e+02,  3.2800e+00],\n",
              "       [ 1.3372e+02,  1.0300e+00],\n",
              "       [ 1.3487e+02,  1.1500e+00],\n",
              "       [ 1.3669e+02,  1.8200e+00],\n",
              "       [ 1.3197e+02, -4.7200e+00],\n",
              "       [ 1.3096e+02, -1.0100e+00],\n",
              "       [ 1.3188e+02,  9.2000e-01],\n",
              "       [ 1.2823e+02, -3.6500e+00],\n",
              "       [ 1.2666e+02, -1.5700e+00],\n",
              "       [ 1.2870e+02,  2.0400e+00],\n",
              "       [ 1.2781e+02, -8.9000e-01],\n",
              "       [ 1.2788e+02,  7.0000e-02],\n",
              "       [ 1.2178e+02, -6.1000e+00],\n",
              "       [ 1.2241e+02,  6.3000e-01],\n",
              "       [ 1.2324e+02,  8.3000e-01],\n",
              "       [ 1.2178e+02, -1.4600e+00],\n",
              "       [ 1.2438e+02,  2.6000e+00],\n",
              "       [ 1.2375e+02, -6.3000e-01],\n",
              "       [ 1.2225e+02, -1.5000e+00],\n",
              "       [ 1.2294e+02,  6.9000e-01],\n",
              "       [ 1.2308e+02,  1.4000e-01],\n",
              "       [ 1.2272e+02, -3.6000e-01],\n",
              "       [ 1.1905e+02, -3.6700e+00],\n",
              "       [ 1.1659e+02, -2.4600e+00],\n",
              "       [ 1.1603e+02, -5.6000e-01],\n",
              "       [ 1.1517e+02, -8.6000e-01],\n",
              "       [ 1.1385e+02, -1.3200e+00],\n",
              "       [ 1.1734e+02,  3.4900e+00],\n",
              "       [ 1.1864e+02,  1.3000e+00],\n",
              "       [ 1.1803e+02, -6.1000e-01],\n",
              "       [ 1.1939e+02,  1.3600e+00],\n",
              "       [ 1.2030e+02,  9.1000e-01],\n",
              "       [ 1.1926e+02, -1.0400e+00],\n",
              "       [ 1.1921e+02, -5.0000e-02],\n",
              "       [ 1.1949e+02,  2.8000e-01],\n",
              "       [ 1.1597e+02, -3.5200e+00],\n",
              "       [ 1.1632e+02,  3.5000e-01],\n",
              "       [ 1.1869e+02,  2.3700e+00],\n",
              "       [ 1.1903e+02,  3.4000e-01],\n",
              "       [ 1.1495e+02, -4.0800e+00],\n",
              "       [ 1.1044e+02, -4.5100e+00],\n",
              "       [ 1.0877e+02, -1.6700e+00],\n",
              "       [ 1.0886e+02,  9.0000e-02],\n",
              "       [ 1.1532e+02,  6.4600e+00],\n",
              "       [ 1.1120e+02, -4.1200e+00],\n",
              "       [ 1.1660e+02,  5.4000e+00],\n",
              "       [ 1.1505e+02, -1.5500e+00],\n",
              "       [ 1.1504e+02, -1.0000e-02],\n",
              "       [ 1.1575e+02,  7.1000e-01],\n",
              "       [ 1.1687e+02,  1.1200e+00],\n",
              "       [ 1.1751e+02,  6.4000e-01],\n",
              "       [ 1.1598e+02, -1.5300e+00],\n",
              "       [ 1.1902e+02,  3.0400e+00],\n",
              "       [ 1.2071e+02,  1.6900e+00],\n",
              "       [ 1.2119e+02,  4.8000e-01],\n",
              "       [ 1.2110e+02, -9.0000e-02],\n",
              "       [ 1.2440e+02,  3.3000e+00],\n",
              "       [ 1.1697e+02, -7.4300e+00],\n",
              "       [ 1.1497e+02, -2.0000e+00],\n",
              "       [ 1.1508e+02,  1.1000e-01],\n",
              "       [ 1.1316e+02, -1.9200e+00],\n",
              "       [ 1.1650e+02,  3.3400e+00],\n",
              "       [ 1.1302e+02, -3.4800e+00],\n",
              "       [ 1.1679e+02,  3.7700e+00],\n",
              "       [ 1.1581e+02, -9.8000e-01],\n",
              "       [ 1.1409e+02, -1.7200e+00],\n",
              "       [ 1.1496e+02,  8.7000e-01],\n",
              "       [ 1.1228e+02, -2.6800e+00],\n",
              "       [ 1.0822e+02, -4.0600e+00],\n",
              "       [ 1.0712e+02, -1.1000e+00],\n",
              "       [ 1.1181e+02,  4.6900e+00],\n",
              "       [ 1.1008e+02, -1.7300e+00],\n",
              "       [ 1.0684e+02, -3.2400e+00],\n",
              "       [ 1.1034e+02,  3.5000e+00],\n",
              "       [ 1.1213e+02,  1.7900e+00],\n",
              "       [ 1.1554e+02,  3.4100e+00],\n",
              "       [ 1.1536e+02, -1.8000e-01],\n",
              "       [ 1.1200e+02, -3.3600e+00],\n",
              "       [ 1.1349e+02,  1.4900e+00],\n",
              "       [ 1.1732e+02,  3.8300e+00],\n",
              "       [ 1.1282e+02, -4.5000e+00],\n",
              "       [ 1.2096e+02,  8.1400e+00],\n",
              "       [ 1.2088e+02, -8.0000e-02],\n",
              "       [ 1.3140e+02,  1.0520e+01],\n",
              "       [ 1.3418e+02,  2.7800e+00],\n",
              "       [ 1.2904e+02, -5.1400e+00],\n",
              "       [ 1.2481e+02, -4.2300e+00],\n",
              "       [ 1.2501e+02,  2.0000e-01],\n",
              "       [ 1.2652e+02,  1.5100e+00],\n",
              "       [ 1.2483e+02, -1.6900e+00],\n",
              "       [ 1.2586e+02,  1.0300e+00],\n",
              "       [ 1.2437e+02, -1.4900e+00],\n",
              "       [ 1.1828e+02, -6.0900e+00],\n",
              "       [ 1.1571e+02, -2.5700e+00],\n",
              "       [ 1.1556e+02, -1.5000e-01],\n",
              "       [ 1.1461e+02, -9.5000e-01],\n",
              "       [ 1.1491e+02,  3.0000e-01],\n",
              "       [ 1.1501e+02,  1.0000e-01],\n",
              "       [ 1.1301e+02, -2.0000e+00],\n",
              "       [ 1.0938e+02, -3.6300e+00],\n",
              "       [ 1.1273e+02,  3.3500e+00],\n",
              "       [ 1.1111e+02, -1.6200e+00],\n",
              "       [ 1.1390e+02,  2.7900e+00],\n",
              "       [ 1.1006e+02, -3.8400e+00],\n",
              "       [ 1.0967e+02, -3.9000e-01],\n",
              "       [ 1.0894e+02, -7.3000e-01],\n",
              "       [ 1.0626e+02, -2.6800e+00],\n",
              "       [ 9.6190e+01, -1.0070e+01],\n",
              "       [ 9.5040e+01, -1.1500e+00],\n",
              "       [ 9.3250e+01, -1.7900e+00],\n",
              "       [ 9.4810e+01,  1.5600e+00],\n",
              "       [ 9.2620e+01, -2.1900e+00],\n",
              "       [ 9.2850e+01,  2.3000e-01],\n",
              "       [ 9.7270e+01,  4.4200e+00],\n",
              "       [ 9.7000e+01, -2.7000e-01],\n",
              "       [ 9.8360e+01,  1.3600e+00],\n",
              "       [ 9.6330e+01, -2.0300e+00],\n",
              "       [ 9.6520e+01,  1.9000e-01],\n",
              "       [ 9.7730e+01,  1.2100e+00],\n",
              "       [ 9.7060e+01, -6.7000e-01],\n",
              "       [ 9.5480e+01, -1.5800e+00],\n",
              "       [ 9.5920e+01,  4.4000e-01],\n",
              "       [ 9.5680e+01, -2.4000e-01],\n",
              "       [ 9.5340e+01, -3.4000e-01],\n",
              "       [ 9.3170e+01, -2.1700e+00],\n",
              "       [ 9.3460e+01,  2.9000e-01],\n",
              "       [ 9.1030e+01, -2.4300e+00],\n",
              "       [ 9.1030e+01,  0.0000e+00],\n",
              "       [ 9.1200e+01,  1.7000e-01],\n",
              "       [ 9.0450e+01, -7.5000e-01],\n",
              "       [ 8.8410e+01, -2.0400e+00],\n",
              "       [ 9.1210e+01,  2.8000e+00],\n",
              "       [ 9.0020e+01, -1.1900e+00],\n",
              "       [ 9.1630e+01,  1.6100e+00],\n",
              "       [ 8.9720e+01, -1.9100e+00],\n",
              "       [ 8.7430e+01, -2.2900e+00],\n",
              "       [ 8.7930e+01,  5.0000e-01],\n",
              "       [ 8.7900e+01, -3.0000e-02],\n",
              "       [ 8.8020e+01,  1.2000e-01],\n",
              "       [ 8.5750e+01, -2.2700e+00],\n",
              "       [ 8.4700e+01, -1.0500e+00],\n",
              "       [ 8.3980e+01, -7.2000e-01],\n",
              "       [ 8.8210e+01,  4.2300e+00],\n",
              "       [ 8.6000e+01, -2.2100e+00],\n",
              "       [ 8.3370e+01, -2.6300e+00],\n",
              "       [ 8.2880e+01, -4.9000e-01],\n",
              "       [ 8.0580e+01, -2.3000e+00],\n",
              "       [ 8.1280e+01,  7.0000e-01],\n",
              "       [ 8.0840e+01, -4.4000e-01],\n",
              "       [ 8.0460e+01, -3.8000e-01],\n",
              "       [ 7.9490e+01, -9.7000e-01],\n",
              "       [ 7.9560e+01,  7.0000e-02]])"
            ]
          },
          "metadata": {
            "tags": []
          },
          "execution_count": 20
        }
      ]
    },
    {
      "cell_type": "markdown",
      "metadata": {
        "id": "VTL3enuCIoIu"
      },
      "source": [
        "Environment"
      ]
    },
    {
      "cell_type": "code",
      "metadata": {
        "colab": {
          "base_uri": "https://localhost:8080/"
        },
        "id": "UdlxksziIoIu",
        "outputId": "a2a7eff3-8811-444a-84de-ab0e183289f4"
      },
      "source": [
        "env.action_space"
      ],
      "execution_count": 21,
      "outputs": [
        {
          "output_type": "execute_result",
          "data": {
            "text/plain": [
              "Discrete(2)"
            ]
          },
          "metadata": {
            "tags": []
          },
          "execution_count": 21
        }
      ]
    },
    {
      "cell_type": "code",
      "metadata": {
        "colab": {
          "base_uri": "https://localhost:8080/",
          "height": 434
        },
        "id": "zu8H7ne-IoIv",
        "outputId": "50af3bcc-3e4c-4976-d84e-2532a230fda1"
      },
      "source": [
        "state = env.reset()\n",
        "while True: \n",
        "    action = env.action_space.sample()\n",
        "    n_state, reward, done, info = env.step(action)\n",
        "    if done: \n",
        "        print(\"info\", info)\n",
        "        break\n",
        "        \n",
        "plt.figure(figsize=(15,6))\n",
        "plt.cla()\n",
        "env.render_all()\n",
        "plt.show()"
      ],
      "execution_count": 22,
      "outputs": [
        {
          "output_type": "stream",
          "text": [
            "info {'total_reward': -30.860000000000014, 'total_profit': 0.3514626721740472, 'position': 1}\n"
          ],
          "name": "stdout"
        },
        {
          "output_type": "display_data",
          "data": {
            "image/png": "[encoded data removed]",
            "text/plain": [
              "<Figure size 1080x432 with 1 Axes>"
            ]
          },
          "metadata": {
            "tags": [],
            "needs_background": "light"
          }
        }
      ]
    },
    {
      "cell_type": "markdown",
      "metadata": {
        "id": "yBUd4U-hIoIv"
      },
      "source": [
        "Training"
      ]
    },
    {
      "cell_type": "code",
      "metadata": {
        "id": "csMcZeMLIoIv"
      },
      "source": [
        "env_maker = lambda: gym.make('stocks-v0', df=df, frame_bound=(5,100), window_size=5)\n",
        "env = DummyVecEnv([env_maker])"
      ],
      "execution_count": 23,
      "outputs": []
    },
    {
      "cell_type": "code",
      "metadata": {
        "scrolled": true,
        "id": "gGAAv8WUIoIv"
      },
      "source": [
        "model = A2C('MlpLstmPolicy', env, verbose=1) \n",
        "model.learn(total_timesteps=1000000)"
      ],
      "execution_count": null,
      "outputs": []
    },
    {
      "cell_type": "markdown",
      "metadata": {
        "id": "2vF_IapKIoIw"
      },
      "source": [
        "Evaluation"
      ]
    },
    {
      "cell_type": "code",
      "metadata": {
        "colab": {
          "base_uri": "https://localhost:8080/"
        },
        "id": "ab1uoiw7IoIw",
        "outputId": "6d5dadba-fb82-41db-847f-1641da8e7d8a"
      },
      "source": [
        "env = gym.make('stocks-v0', df=df, frame_bound=(200,250), window_size=5)\n",
        "obs = env.reset()\n",
        "while True: \n",
        "    obs = obs[np.newaxis, ...]\n",
        "    action, _states = model.predict(obs)\n",
        "    obs, rewards, done, info = env.step(action)\n",
        "    if done:\n",
        "        print(\"info\", info)\n",
        "        break"
      ],
      "execution_count": 27,
      "outputs": [
        {
          "output_type": "stream",
          "text": [
            "info {'total_reward': 0.0, 'total_profit': 0.7864973604445566, 'position': 1}\n"
          ],
          "name": "stdout"
        }
      ]
    },
    {
      "cell_type": "code",
      "metadata": {
        "colab": {
          "base_uri": "https://localhost:8080/",
          "height": 417
        },
        "id": "9pVdz6W9IoIw",
        "outputId": "864b4fbd-bbe8-4c20-8a16-f9a7530b8148"
      },
      "source": [
        "plt.figure(figsize=(15,6))\n",
        "plt.cla()\n",
        "env.render_all()\n",
        "plt.show()"
      ],
      "execution_count": 28,
      "outputs": [
        {
          "output_type": "display_data",
          "data": {
            "image/png": "[encoded data removed]",
            "text/plain": [
              "<Figure size 1080x432 with 1 Axes>"
            ]
          },
          "metadata": {
            "tags": [],
            "needs_background": "light"
          }
        }
      ]
    },
    {
      "cell_type": "code",
      "metadata": {
        "id": "Dwd3lJh8IoIw"
      },
      "source": [
        ""
      ],
      "execution_count": 26,
      "outputs": []
    }
  ]
}